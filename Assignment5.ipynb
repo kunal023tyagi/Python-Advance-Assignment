{
  "metadata": {
    "kernelspec": {
      "display_name": "Pyolite",
      "language": "python",
      "name": "python"
    },
    "language_info": {
      "codemirror_mode": {
        "name": "python",
        "version": 3
      },
      "file_extension": ".py",
      "mimetype": "text/x-python",
      "name": "python",
      "nbconvert_exporter": "python",
      "pygments_lexer": "ipython3",
      "version": "3.8"
    }
  },
  "nbformat_minor": 5,
  "nbformat": 4,
  "cells": [
    {
      "cell_type": "code",
      "source": "class Parent_one:\n    pass\nclass Parent_two:\n    pass\nclass child(Parent_one,Parent_two):\n    pass",
      "metadata": {
        "trusted": true
      },
      "execution_count": 55,
      "outputs": [],
      "id": "90627743-688c-4b59-8a33-a72945380cad"
    },
    {
      "cell_type": "code",
      "source": "class Myclass:\n    def sayHi(self):\n        print('Hey iam back')\n    def whoAmI(self):\n        print('Iam the main class')\nclass NewClass:\n    def __init__(self,obj):\n        self.main = obj\n    def welcome(self):\n        self.main.sayHi()\n\nm = Myclass()        \nn = NewClass(m)\nm.sayHi()\nn.main.sayHi()\nn.welcome()\nn.main.whoAmI()",
      "metadata": {
        "trusted": true
      },
      "execution_count": 56,
      "outputs": [
        {
          "name": "stdout",
          "text": "Hey iam back\nHey iam back\nHey iam back\nIam the main class\n",
          "output_type": "stream"
        }
      ],
      "id": "c7a8780d-6340-41ce-946e-883083ff518d"
    },
    {
      "cell_type": "code",
      "source": "class Salary:\n    def __init__(self,pay):\n        self.pay = pay\n    def get_total(self):\n        return self.pay*12\n    \nclass Employee:\n    def __init__(self,pay,bonus):\n        self.pay = pay\n        self.bonus = bonus\n        self.obj_salary = Salary(self.pay)\n    def annual_salary(self):\n        return f'Total Salary : {str(self.obj_salary.get_total())}'\n\nobj_emp = Employee(800,500)\nprint(obj_emp.annual_salary())\n",
      "metadata": {
        "trusted": true
      },
      "execution_count": 57,
      "outputs": [
        {
          "name": "stdout",
          "text": "Total Salary : 9600\n",
          "output_type": "stream"
        }
      ],
      "id": "2dd5b123-97d0-4892-97c2-19ef8f72d054"
    },
    {
      "cell_type": "code",
      "source": "",
      "metadata": {},
      "execution_count": null,
      "outputs": [],
      "id": "90899b24-a8db-4b8a-a7a4-40ccf6016ac0"
    },
    {
      "cell_type": "code",
      "source": "class Test:\n    def method_one(self): # bound method\n        print(\"Called method_one\")\n    @classmethod\n    def method_two(cls): # unbound method\n        print(\"Called method_two\")\n    @staticmethod\n    def method_three(): # static method\n        print(\"Called method_three\")\n\ntest = Test()\ntest.method_one() # accessing through instance object\ntest.method_two() # accessing through instance object\nTest.method_two() # accessing directly through class\nTest.method_three() # accessing directly through class",
      "metadata": {
        "trusted": true
      },
      "execution_count": 58,
      "outputs": [
        {
          "name": "stdout",
          "text": "Called method_one\nCalled method_two\nCalled method_two\nCalled method_three\n",
          "output_type": "stream"
        }
      ],
      "id": "b4f80346-1291-48b8-9028-f5c7d486eb5d"
    },
    {
      "cell_type": "code",
      "source": "class Super:\n    def method(self): # A real application method\n        pass\nclass Tool:\n    def _method(self): # becomes _Tool_method\n        pass\n    def other(self): # uses internal method\n        self._method()\nclass Subl(Tool,Super):\n    def actions(self):\n        self.method()\nclass Sub2(Tool):\n    def __init__(self):\n        self.method = 99",
      "metadata": {
        "trusted": true
      },
      "execution_count": 59,
      "outputs": [],
      "id": "b6863ae1-bef2-45d6-b41e-6b8479af1228"
    }
  ]
}