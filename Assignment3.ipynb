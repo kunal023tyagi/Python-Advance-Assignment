{
  "metadata": {
    "kernelspec": {
      "display_name": "Pyolite",
      "language": "python",
      "name": "python"
    },
    "language_info": {
      "codemirror_mode": {
        "name": "python",
        "version": 3
      },
      "file_extension": ".py",
      "mimetype": "text/x-python",
      "name": "python",
      "nbconvert_exporter": "python",
      "pygments_lexer": "ipython3",
      "version": "3.8"
    }
  },
  "nbformat_minor": 5,
  "nbformat": 4,
  "cells": [
    {
      "cell_type": "code",
      "source": "from abc import ABC, abstractmethod\nclass Polygon(ABC): # Abstract Class\n    @abstractmethod\n    def noofsides(self): # Abstract Method\n        pass\nclass Triangle(Polygon):\n    def noofsides(self):  # overriding abstract method in child class Triangle\n        print(\"I have 3 sides\")\nclass Pentagon(Polygon):\n    def noofsides(self): # overriding abstract method in child class Pentagon\n        print(\"I have 5 sides\")",
      "metadata": {
        "trusted": true
      },
      "execution_count": 46,
      "outputs": [],
      "id": "dbb85c40-c086-479d-a719-5d9c95031ef5"
    },
    {
      "cell_type": "code",
      "source": "",
      "metadata": {},
      "execution_count": null,
      "outputs": [],
      "id": "be1caee2-5744-472f-b9f0-fe592a2fa898"
    },
    {
      "cell_type": "code",
      "source": "class Person:\n    species = 'Homesapiens' # class attribute\n    def __init__(self,name,gender):\n        self.name = name # instance attributes\n        self.gender = gender",
      "metadata": {
        "trusted": true
      },
      "execution_count": 47,
      "outputs": [],
      "id": "024ec39c-fc44-463f-a343-563181347a14"
    },
    {
      "cell_type": "code",
      "source": "class Person:\n    def __init__(self,name,age):\n        self.name = name\n        self.age = age       \nclass Employee(Person):\n    def __init__(self,name,age,salary):\n        super().__init__(name,age)\n        self.salary = salary\nemp_1 = Employee('Vivek',28,20000)\nprint(emp_1.__dict__)",
      "metadata": {
        "trusted": true
      },
      "execution_count": 48,
      "outputs": [
        {
          "name": "stdout",
          "text": "{'name': 'Vivek', 'age': 28, 'salary': 20000}\n",
          "output_type": "stream"
        }
      ],
      "id": "09f88c17-c56e-4965-92e3-706a6d275d86"
    },
    {
      "cell_type": "code",
      "source": "class Person:\n    def __init__(self,name,gender):\n        self.name = name\n        self.gender = gender\nclass Employee(Person):\n    def __init__(self,name,gender,salary):\n        super().__init__(name,gender) \n        self.salary = salary\nemp_1 = Employee('Vivek','Male',10000)\nprint(emp_1.__dict__)       ",
      "metadata": {
        "trusted": true
      },
      "execution_count": 49,
      "outputs": [
        {
          "name": "stdout",
          "text": "{'name': 'Vivek', 'gender': 'Male', 'salary': 10000}\n",
          "output_type": "stream"
        }
      ],
      "id": "bfaca09a-00b0-431e-ac5c-a124605fde69"
    },
    {
      "cell_type": "code",
      "source": "",
      "metadata": {},
      "execution_count": null,
      "outputs": [],
      "id": "37f1fd01-81f6-4046-90d6-df7736ddfe12"
    },
    {
      "cell_type": "code",
      "source": "def hello(name):\n    name = name\n    print(f'you\\'re name is {name}')\nhello('Mano Vishnu')\ntry:\n    name\nexcept NameError:\n    print('Name varible is not available outside hello function scope')\n\nclass Person:\n    species = \"HomeSapines\"\n    def __init__(self):\n        pass\nprint(Person.species) # Accessing species using class name\nMale = Person()\nprint(Male.species) # Accessing species using instance of class",
      "metadata": {
        "trusted": true
      },
      "execution_count": 50,
      "outputs": [
        {
          "name": "stdout",
          "text": "you're name is Mano Vishnu\nName varible is not available outside hello function scope\nHomeSapines\nHomeSapines\n",
          "output_type": "stream"
        }
      ],
      "id": "ab830dd6-a941-4ca7-b5ea-3874eb6da159"
    }
  ]
}