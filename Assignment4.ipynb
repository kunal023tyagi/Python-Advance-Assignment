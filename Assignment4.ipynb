{
  "metadata": {
    "kernelspec": {
      "display_name": "Pyolite",
      "language": "python",
      "name": "python"
    },
    "language_info": {
      "codemirror_mode": {
        "name": "python",
        "version": 3
      },
      "file_extension": ".py",
      "mimetype": "text/x-python",
      "name": "python",
      "nbconvert_exporter": "python",
      "pygments_lexer": "ipython3",
      "version": "3.8"
    }
  },
  "nbformat_minor": 5,
  "nbformat": 4,
  "cells": [
    {
      "cell_type": "code",
      "source": "class Counter:\n    def __init__(self,low,high):\n        self.current = low\n        self.high = high\n    def __iter__(self):\n        return self\n    def __next__(self):\n        if self.current > self.high:\n            raise StopIteration\n        else:\n            self.current += 1\n            return self.current - 1\nfor ele in Counter(5,15):\n    print(ele, end=\" \")",
      "metadata": {
        "trusted": true
      },
      "execution_count": 51,
      "outputs": [
        {
          "name": "stdout",
          "text": "5 6 7 8 9 10 11 12 13 14 15 ",
          "output_type": "stream"
        }
      ],
      "id": "41d8afc4-5867-4ce3-98a2-f27bb03665cf"
    },
    {
      "cell_type": "code",
      "source": "",
      "metadata": {},
      "execution_count": null,
      "outputs": [],
      "id": "b0d99e81-ef83-4a06-9bc7-e98b01f101a4"
    },
    {
      "cell_type": "code",
      "source": "class Student:\n    def __init__(self,name,roll_no):\n        self.name = name\n        self.roll_no = roll_no\n        \ns1 = Student(\"Mano\",1)\nprint(str(s1))\n\nclass Student:\n    def __init__(self,name,roll_no):\n        self.name = name\n        self.roll_no = roll_no\n    def __str__(self):\n        return f'Student Name: {self.name} and Roll No: {self.roll_no}'\n    \ns1 = Student(\"Mano\",1)\nprint(str(s1))\n\nimport datetime\ntoday = datetime.datetime.now()\n\ns = str(today) # converting datetime object to presentable str\nprint(s)\ntry: d = eval(s) # converting str back to datetime object\nexcept: print(\"Unable to convert back to original object\")\n    \nu = repr(today) # converting datetime object to str\nprint(u)\ne = eval(u) # converting str back to datetime object\nprint(e)",
      "metadata": {
        "trusted": true
      },
      "execution_count": 52,
      "outputs": [
        {
          "name": "stdout",
          "text": "<__main__.Student object at 0x2fd2d90>\nStudent Name: Mano and Roll No: 1\n2022-04-16 16:15:39.885000\nUnable to convert back to original object\ndatetime.datetime(2022, 4, 16, 16, 15, 39, 885000)\n2022-04-16 16:15:39.885000\n",
          "output_type": "stream"
        }
      ],
      "id": "dcb8729e-01a6-4b4b-ad6c-3536be6aac9f"
    },
    {
      "cell_type": "code",
      "source": "class Book:\n    def __init__(self,pages):\n        self.pages = pages\n    def __iadd__(self,other):\n        self.pages += other.pages\n        return self.pages\n        \nb1 = Book(100)\nb2 = Book(200)\nb1+=b2\nprint(b1)",
      "metadata": {
        "trusted": true
      },
      "execution_count": 53,
      "outputs": [
        {
          "name": "stdout",
          "text": "300\n",
          "output_type": "stream"
        }
      ],
      "id": "cd43012e-a648-4992-81b0-89697b577a4b"
    },
    {
      "cell_type": "code",
      "source": "class Book:\n    def __init__(self,pages):\n        self.pages = pages\n    def __iadd__(self,other):\n        self.pages += other.pages\n        return self.pages\n        \nb1 = Book(100)\nb2 = Book(200)\nb1+=b2\nprint(b1)",
      "metadata": {
        "trusted": true
      },
      "execution_count": 54,
      "outputs": [
        {
          "name": "stdout",
          "text": "300\n",
          "output_type": "stream"
        }
      ],
      "id": "04fe59a2-0b40-4b78-8bdb-8ed2a2da43e7"
    }
  ]
}